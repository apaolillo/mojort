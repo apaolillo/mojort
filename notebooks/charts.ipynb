{
 "cells": [
  {
   "cell_type": "markdown",
   "id": "8ba0b3d9-1d81-4084-a585-278f196dd255",
   "metadata": {},
   "source": [
    "# Charts for mojort paper"
   ]
  },
  {
   "cell_type": "code",
   "execution_count": null,
   "id": "202dbf85-fd83-4aa2-abf5-f87eccf19e87",
   "metadata": {},
   "outputs": [],
   "source": [
    "import pandas as pd\n",
    "import seaborn as sns\n",
    "from benchkit.charts.printedcharts import export_figure\n",
    "import matplotlib.pyplot as plt\n",
    "import benchkit\n",
    "#import cairosvg\n",
    "from benchkit.charts.dataframes import get_dataframe\n",
    "import os\n",
    "from pathlib import Path\n",
    "from benchkit.utils.dir import gitmainrootdir\n",
    "import re"
   ]
  },
  {
   "cell_type": "code",
   "execution_count": null,
   "id": "8b7cb6fd-362a-4c40-ac00-5a127c0fefe2",
   "metadata": {},
   "outputs": [],
   "source": [
    "repo_dir = gitmainrootdir()\n",
    "# paper_dir = Path(\"/home/antonio/Dropbox/Applications/ShareLaTeX/rtns25_mojort\")\n",
    "paper_dir = Path(\"/tmp\")\n",
    "\n",
    "fig_dir = paper_dir / \"figures/generated\"\n",
    "\n",
    "os.makedirs(str(fig_dir), exist_ok=True)"
   ]
  },
  {
   "cell_type": "code",
   "execution_count": null,
   "id": "3a5a887c-0fca-4a5b-be27-1d166d23dbfe",
   "metadata": {},
   "outputs": [],
   "source": [
    "def make_parent(\n",
    "    path: Path,\n",
    ") -> None:\n",
    "    parent_dir = Path(path).parent.resolve()\n",
    "    parent_dir.mkdir(parents=True, exist_ok=True)"
   ]
  },
  {
   "cell_type": "code",
   "execution_count": null,
   "id": "59833dc0-f4c2-49bb-a03f-9e74fc6e6693",
   "metadata": {},
   "outputs": [],
   "source": [
    "def export_fig(\n",
    "    plot,\n",
    "    path: Path,\n",
    ") -> None:\n",
    "    make_parent(path)\n",
    "\n",
    "    export_figure(\n",
    "        plot=plot,\n",
    "        path=path,\n",
    "        creation_year=2024,\n",
    "        creation_month=12,\n",
    "        creation_day=10,\n",
    "    )"
   ]
  },
  {
   "cell_type": "code",
   "execution_count": null,
   "id": "1a28c418-5185-486d-a15d-c5518f7e8202",
   "metadata": {},
   "outputs": [],
   "source": [
    "CONTEXT = \"talk\"\n",
    "STYLE = \"whitegrid\"\n",
    "PALETTE = \"colorblind\"\n",
    "# ESTIMATOR = np.median\n",
    "ESTIMATOR_STR = \"median\"\n",
    "# CONFINT = 'sd'\n",
    "FIG_USE_LATEX_FONTS = True"
   ]
  },
  {
   "cell_type": "code",
   "execution_count": null,
   "id": "da43f731-4d1c-4d29-b824-51def92136e7",
   "metadata": {},
   "outputs": [],
   "source": [
    "def set_config(width=8, height=6, font_scale=1.15):\n",
    "    sns.set_theme(\n",
    "        context=CONTEXT,\n",
    "        style=STYLE,\n",
    "        palette=PALETTE,\n",
    "        font_scale=font_scale,\n",
    "        rc={\n",
    "            \"figure.figsize\": (width, height),\n",
    "            \"pdf.fonttype\": 42,\n",
    "            \"pdf.use14corefonts\": True,\n",
    "            \"text.usetex\": FIG_USE_LATEX_FONTS,\n",
    "        },\n",
    "    )"
   ]
  },
  {
   "cell_type": "code",
   "execution_count": null,
   "id": "caeec04b-4b50-4746-bdf2-de8ca328a31f",
   "metadata": {},
   "outputs": [],
   "source": [
    "set_config()"
   ]
  },
  {
   "cell_type": "code",
   "execution_count": null,
   "id": "2791f513-5648-4576-b424-2023505f2569",
   "metadata": {},
   "outputs": [],
   "source": [
    "path_results = Path(\"results/mandelbrot\")\n",
    "csv_paths = [path_results / f for f in os.listdir(path_results) if f.endswith(\".csv\")]\n",
    "dataframes = [get_dataframe(p) for p in sorted(csv_paths)]\n",
    "dataframe = pd.concat(dataframes)\n",
    "df = dataframe"
   ]
  },
  {
   "cell_type": "code",
   "execution_count": null,
   "id": "83d39129-637d-4942-bd79-e9fd53289bc9",
   "metadata": {},
   "outputs": [],
   "source": [
    "# Ensure required columns are present\n",
    "required = {\"language\",\"src_filename\",\"size\",\"runtime\"}\n",
    "missing = required - set(df.columns)\n",
    "assert not missing, f\"Missing columns: {missing}\"\n",
    "\n",
    "# Parse language into family + opt level, without losing raw rows\n",
    "def split_lang(s: str):\n",
    "    m = re.match(r\"^\\s*([A-Za-z\\+\\-]+(?:\\s*[A-Za-z\\-]+)?)\\s*(?:(-O[0-3]|-Ofast))?\\s*$\", str(s))\n",
    "    if not m:\n",
    "        return s.strip(), \"unspecified\"\n",
    "    fam = m.group(1).strip()\n",
    "    opt = (m.group(2) or \"unspecified\").strip()\n",
    "    return fam, opt\n",
    "\n",
    "fam_opt = df[\"language\"].apply(split_lang)\n",
    "df[\"lang_family\"] = fam_opt.apply(lambda x: x[0])\n",
    "df[\"opt_level\"]   = fam_opt.apply(lambda x: x[1])\n",
    "\n",
    "# Orders for nice, consistent axes\n",
    "opt_order  = [\"-O1\", \"-O2\", \"-O3\",]\n",
    "size_order = sorted(df[\"size\"].dropna().unique())\n",
    "lang_order = sorted(df[\"lang_family\"].dropna().unique(), key=lambda s: (\"mojo\" not in s.lower(), s.lower()))\n",
    "\n",
    "# Cast to categoricals for stable plotting order\n",
    "df[\"opt_level\"]   = pd.Categorical(df[\"opt_level\"],   categories=opt_order, ordered=True)\n",
    "df[\"size\"]        = pd.Categorical(df[\"size\"],        categories=size_order, ordered=True)\n",
    "df[\"lang_family\"] = pd.Categorical(df[\"lang_family\"], categories=lang_order, ordered=False)\n",
    "\n",
    "df = df[df[\"opt_level\"] != \"unspecified\"]\n",
    "df = df[df[\"opt_level\"] != \"-Ofast\"]"
   ]
  },
  {
   "cell_type": "code",
   "execution_count": null,
   "id": "b8653744-b9b9-4422-b0e3-5db368126bd9",
   "metadata": {},
   "outputs": [],
   "source": [
    "g = sns.catplot(\n",
    "    data=df,\n",
    "    x=\"opt_level\", y=\"runtime\",\n",
    "    hue=\"lang_family\",\n",
    "    row=\"src_filename\", col=\"size\",\n",
    "    order=opt_order, hue_order=lang_order,\n",
    "    kind=\"bar\",\n",
    "    errorbar=(\"pi\", 95),  # 95% percentile interval\n",
    "    capsize=0.15,\n",
    "    sharey=False,\n",
    "    height=3.8, aspect=1.2\n",
    ")\n",
    "\n",
    "g.set_axis_labels(\"Optimization level\", \"Runtime (units)\")\n",
    "g.set_titles(\"{row_name} — size {col_name}\")\n",
    "g.add_legend(title=\"Language\")\n",
    "\n",
    "#plt.tight_layout()\n",
    "plt.show()"
   ]
  },
  {
   "cell_type": "code",
   "execution_count": null,
   "id": "8a9b5055-c426-45e8-a34d-40b80a2f537e",
   "metadata": {},
   "outputs": [],
   "source": [
    "export_fig(g, fig_dir / \"mandelbrot.pdf\")"
   ]
  }
 ],
 "metadata": {
  "kernelspec": {
   "display_name": "Python 3 (ipykernel)",
   "language": "python",
   "name": "python3"
  },
  "language_info": {
   "codemirror_mode": {
    "name": "ipython",
    "version": 3
   },
   "file_extension": ".py",
   "mimetype": "text/x-python",
   "name": "python",
   "nbconvert_exporter": "python",
   "pygments_lexer": "ipython3",
   "version": "3.10.12"
  }
 },
 "nbformat": 4,
 "nbformat_minor": 5
}
