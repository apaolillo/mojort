{
 "cells": [
  {
   "cell_type": "markdown",
   "id": "8ba0b3d9-1d81-4084-a585-278f196dd255",
   "metadata": {},
   "source": [
    "# Charts for mojort paper"
   ]
  },
  {
   "cell_type": "markdown",
   "id": "45dd2b84-4e56-4f9e-9acb-08b7c7d59554",
   "metadata": {},
   "source": [
    "## Boiler plates"
   ]
  },
  {
   "cell_type": "code",
   "execution_count": null,
   "id": "202dbf85-fd83-4aa2-abf5-f87eccf19e87",
   "metadata": {},
   "outputs": [],
   "source": [
    "import pandas as pd\n",
    "import seaborn as sns\n",
    "import numpy as np\n",
    "from benchkit.charts.printedcharts import export_figure\n",
    "import matplotlib.pyplot as plt\n",
    "import benchkit\n",
    "from benchkit.charts.dataframes import get_dataframe\n",
    "import os\n",
    "from pathlib import Path\n",
    "from benchkit.utils.dir import gitmainrootdir\n",
    "import re"
   ]
  },
  {
   "cell_type": "code",
   "execution_count": null,
   "id": "8b7cb6fd-362a-4c40-ac00-5a127c0fefe2",
   "metadata": {},
   "outputs": [],
   "source": [
    "repo_dir = gitmainrootdir()\n",
    "paper_dir = Path(\"/tmp\")\n",
    "\n",
    "fig_dir = paper_dir / \"figures/generated\"\n",
    "\n",
    "os.makedirs(str(fig_dir), exist_ok=True)"
   ]
  },
  {
   "cell_type": "code",
   "execution_count": null,
   "id": "3a5a887c-0fca-4a5b-be27-1d166d23dbfe",
   "metadata": {},
   "outputs": [],
   "source": [
    "def make_parent(\n",
    "    path: Path,\n",
    ") -> None:\n",
    "    parent_dir = Path(path).parent.resolve()\n",
    "    parent_dir.mkdir(parents=True, exist_ok=True)\n"
   ]
  },
  {
   "cell_type": "code",
   "execution_count": null,
   "id": "59833dc0-f4c2-49bb-a03f-9e74fc6e6693",
   "metadata": {},
   "outputs": [],
   "source": [
    "def export_fig(\n",
    "    plot,\n",
    "    path: Path,\n",
    ") -> None:\n",
    "    make_parent(path)\n",
    "\n",
    "    export_figure(\n",
    "        plot=plot,\n",
    "        path=path,\n",
    "        creation_year=2024,\n",
    "        creation_month=12,\n",
    "        creation_day=10,\n",
    "    )\n"
   ]
  },
  {
   "cell_type": "code",
   "execution_count": null,
   "id": "1a28c418-5185-486d-a15d-c5518f7e8202",
   "metadata": {},
   "outputs": [],
   "source": [
    "CONTEXT = \"talk\"\n",
    "STYLE = \"whitegrid\"\n",
    "PALETTE = \"colorblind\"\n",
    "# ESTIMATOR = np.median\n",
    "ESTIMATOR_STR = \"median\"\n",
    "# CONFINT = 'sd'\n",
    "FIG_USE_LATEX_FONTS = True\n"
   ]
  },
  {
   "cell_type": "code",
   "execution_count": null,
   "id": "da43f731-4d1c-4d29-b824-51def92136e7",
   "metadata": {},
   "outputs": [],
   "source": [
    "def set_config(width=8, height=6, font_scale=1.15):\n",
    "    sns.set_theme(\n",
    "        context=CONTEXT,\n",
    "        style=STYLE,\n",
    "        palette=PALETTE,\n",
    "        font_scale=font_scale,\n",
    "        rc={\n",
    "            \"figure.figsize\": (width, height),\n",
    "            \"pdf.fonttype\": 42,\n",
    "            \"pdf.use14corefonts\": True,\n",
    "            \"text.usetex\": FIG_USE_LATEX_FONTS,\n",
    "        },\n",
    "    )\n"
   ]
  },
  {
   "cell_type": "code",
   "execution_count": null,
   "id": "caeec04b-4b50-4746-bdf2-de8ca328a31f",
   "metadata": {},
   "outputs": [],
   "source": [
    "set_config()\n"
   ]
  },
  {
   "cell_type": "markdown",
   "id": "d4e4a882-5e71-4a79-bf55-9c2199c9377c",
   "metadata": {},
   "source": [
    "## Microbenches"
   ]
  },
  {
   "cell_type": "code",
   "execution_count": null,
   "id": "2791f513-5648-4576-b424-2023505f2569",
   "metadata": {},
   "outputs": [],
   "source": [
    "path_results = Path(\"results/microbenches/\")\n",
    "csv_paths = [path_results / f for f in os.listdir(path_results) if f.endswith(\".csv\")]\n",
    "dataframes = [get_dataframe(p) for p in sorted(csv_paths)]\n",
    "# dataframes = dataframes[::-1] # reverse data frame order\n",
    "dataframe = pd.concat(dataframes)\n",
    "df = dataframe\n"
   ]
  },
  {
   "cell_type": "code",
   "execution_count": null,
   "id": "3f06a96b-2de2-47a6-959c-02ba6360f965",
   "metadata": {},
   "outputs": [],
   "source": [
    "df[\"src_filename\"] = (\n",
    "    df[\"src_filename\"]\n",
    "    .str.replace(\"knmp\", \"String search (KMP)\", regex=True)\n",
    "    .str.replace(\"mandelbrot\", \"Mandelbrot\", regex=True)\n",
    "    .str.replace(\"matmul\", \"Matrix multiplication\", regex=True)\n",
    ")"
   ]
  },
  {
   "cell_type": "code",
   "execution_count": null,
   "id": "796ca884-d499-4879-8bfa-4a7ac0303dd3",
   "metadata": {
    "scrolled": true
   },
   "outputs": [],
   "source": [
    "df[\"runtime\"] /= 1000.0 # µs to ms\n"
   ]
  },
  {
   "cell_type": "code",
   "execution_count": null,
   "id": "0c63fea5-faf3-4ea5-b275-7913434e6d01",
   "metadata": {},
   "outputs": [],
   "source": [
    "# Ensure required columns\n",
    "required = {\"language\",\"src_filename\",\"size\",\"runtime\"}\n",
    "missing = required - set(df.columns)\n",
    "assert not missing, f\"Missing columns: {missing}\"\n",
    "\n",
    "# Parse language into family + opt level\n",
    "def split_lang(s: str):\n",
    "    m = re.match(r\"^\\s*([A-Za-z\\+\\-]+(?:\\s*[A-Za-z\\-]+)?)\\s*(?:(-O[0-3]|-Ofast))?\\s*$\", str(s))\n",
    "    if not m:\n",
    "        return s.strip(), \"unspecified\"\n",
    "    fam = m.group(1).strip()\n",
    "    opt = (m.group(2) or \"unspecified\").strip()\n",
    "    return fam, opt\n",
    "\n",
    "fam_opt = df[\"language\"].apply(split_lang)\n",
    "df[\"lang_family\"] = fam_opt.str[0]\n",
    "df[\"opt_level\"]   = fam_opt.str[1]"
   ]
  },
  {
   "cell_type": "code",
   "execution_count": null,
   "id": "f2b3ef99-a94a-42ed-9369-081a356ab766",
   "metadata": {},
   "outputs": [],
   "source": [
    "df[\"lang_family\"] = (\n",
    "    df[\"lang_family\"]\n",
    "    .str.replace(\"c-clang\", \"C (Clang)\", regex=True)\n",
    "    .str.replace(\"c-gcc\", \"C (GCC)\", regex=True)\n",
    "    .str.replace(\"cpp-clang\", \"C++ (Clang)\", regex=True)\n",
    "    .str.replace(\"cpp-gcc\", \"C++ (GCC)\", regex=True)\n",
    "    .str.replace(\"mojo\", \"Mojo\", regex=True)\n",
    "    .str.replace(\"rust\", \"Rust\", regex=True)\n",
    ")\n",
    "\n",
    "set(df[\"lang_family\"])"
   ]
  },
  {
   "cell_type": "code",
   "execution_count": null,
   "id": "8e2eb287-1492-4c6a-bdbd-ff9973c99035",
   "metadata": {},
   "outputs": [],
   "source": [
    "# Orders for plotting\n",
    "opt_order  = [\"-O1\", \"-O2\", \"-O3\"]\n",
    "size_order = sorted(df[\"size\"].dropna().unique())\n",
    "lang_order = sorted(df[\"lang_family\"].dropna().unique(),\n",
    "                    key=lambda s: (\"mojo\" not in s.lower(), s.lower()))\n",
    "\n",
    "# Cast before slicing\n",
    "df[\"opt_level\"]   = pd.Categorical(df[\"opt_level\"],   categories=opt_order, ordered=True)\n",
    "df[\"size\"]        = pd.Categorical(df[\"size\"],        categories=size_order, ordered=True)\n",
    "df[\"lang_family\"] = pd.Categorical(df[\"lang_family\"], categories=lang_order, ordered=False)\n",
    "\n",
    "# Now filter\n",
    "df = df[~df[\"opt_level\"].isin([\"unspecified\", \"-Ofast\"])]"
   ]
  },
  {
   "cell_type": "code",
   "execution_count": null,
   "id": "73f6fa8b-a339-407d-a6fa-587f0dda7177",
   "metadata": {},
   "outputs": [],
   "source": [
    "plot_df = (\n",
    "    df.loc[df[\"opt_level\"].isin(opt_order)]\n",
    "      .dropna(subset=[\"src_filename\", \"size\", \"lang_family\", \"runtime\", \"opt_level\"])\n",
    "      .copy()\n",
    ")\n",
    "\n",
    "# Reset index to avoid duplicate-label issues inside seaborn\n",
    "plot_df.reset_index(drop=True, inplace=True)\n",
    "\n",
    "# Flatten (src_filename, size) into one panel column\n",
    "plot_df[\"panel\"] = (\n",
    "    plot_df[\"src_filename\"].astype(str)\n",
    "    + \" — size \"\n",
    "    + plot_df[\"size\"].astype(str)\n",
    ")\n",
    "\n",
    "plot_df[\"size_num\"] = pd.to_numeric(plot_df[\"size\"].astype(str), errors=\"coerce\")\n",
    "panel_order = (plot_df[[\"panel\", \"src_filename\", \"size_num\"]]\n",
    "               .drop_duplicates()\n",
    "               .sort_values([\"src_filename\", \"size_num\"])[\"panel\"].tolist())\n",
    "\n",
    "local_lang_order = [x for x in lang_order if x in plot_df[\"lang_family\"].unique()]\n"
   ]
  },
  {
   "cell_type": "code",
   "execution_count": null,
   "id": "f7b4dbc5-cc1d-4391-a7d3-df7ce1729998",
   "metadata": {},
   "outputs": [],
   "source": [
    "g = sns.catplot(\n",
    "    data=plot_df,\n",
    "    x=\"opt_level\", y=\"runtime\",\n",
    "    hue=\"lang_family\",\n",
    "    col=\"panel\", col_order=panel_order, col_wrap=2,\n",
    "    order=opt_order, hue_order=local_lang_order,\n",
    "    kind=\"bar\",\n",
    "    errorbar=(\"pi\", 95),\n",
    "    capsize=0.15,\n",
    "    sharey=False,\n",
    "    height=3.8, aspect=2.0,\n",
    ")\n",
    "\n",
    "g.set_axis_labels(\"Optimization level\", \"Runtime (ms)\")\n",
    "g.set_titles(\"{col_name}\")\n",
    "#g.add_legend(title=\"Language\")\n",
    "# Legend: remove title, put on top in one row\n",
    "sns.move_legend(\n",
    "    g, \"lower center\",\n",
    "    bbox_to_anchor=(.45, -0.04), ncol=6, title=None, frameon=False,\n",
    ")\n",
    "\n",
    "#plt.tight_layout()\n",
    "plt.show()\n"
   ]
  },
  {
   "cell_type": "code",
   "execution_count": null,
   "id": "91c993dd-17fc-4250-b71e-8f0a316a20d8",
   "metadata": {},
   "outputs": [],
   "source": [
    "export_fig(g, fig_dir / \"microbenches.pdf\")\n",
    "export_fig(g, Path(\"/tmp/microbenches.png\"))"
   ]
  },
  {
   "cell_type": "markdown",
   "id": "54c7d792",
   "metadata": {},
   "source": [
    "## cyclictest"
   ]
  },
  {
   "cell_type": "code",
   "execution_count": null,
   "id": "beb7a407-8eb8-4e91-b120-bc97e02fdaaa",
   "metadata": {},
   "outputs": [],
   "source": [
    "def remap_results_path(src: Path, new_root: Path) -> Path:\n",
    "    \"\"\"\n",
    "    Remap a full path under an unknown prefix that contains 'results/benchmark_*'\n",
    "    to a new root, preserving the tail after 'results/'.\n",
    "\n",
    "    Example:\n",
    "        /home/.../results/benchmark_xxx/... -> ./results/cyclictest/benchmark_xxx/...\n",
    "    \"\"\"\n",
    "    parts = src.parts\n",
    "    try:\n",
    "        # find the index of 'results'\n",
    "        idx = parts.index('results')\n",
    "    except ValueError:\n",
    "        raise ValueError(f\"'results' directory not found in path: {src}\")\n",
    "\n",
    "    # build relative path *after* 'results/'\n",
    "    rel = Path(*parts[idx + 1:])\n",
    "\n",
    "    # reattach under new root\n",
    "    return new_root / rel"
   ]
  },
  {
   "cell_type": "code",
   "execution_count": null,
   "id": "be4a0cbd-034f-4d99-91d2-a35478d67b41",
   "metadata": {},
   "outputs": [],
   "source": [
    "def gen_cyclictest_chart(path_results: Path, chart_dst_filename: Path) -> None:\n",
    "    csv_paths = [path_results / f for f in os.listdir(path_results) if f.endswith(\".csv\")]\n",
    "    dataframes = [get_dataframe(p) for p in sorted(csv_paths)]\n",
    "    \n",
    "    dataframe = pd.concat(dataframes)\n",
    "\n",
    "    dataframe[\"language\"] = (\n",
    "        dataframe[\"language\"]\n",
    "        .str.replace(\"mojo\", \"Mojo\", regex=True)\n",
    "        .str.replace(\"c\", \"C\", regex=True)\n",
    "    )\n",
    "    \n",
    "    frames = []\n",
    "    path_col = \"datapath\"\n",
    "    value_col = \"latency\"\n",
    "    for _, row in dataframe.iterrows():\n",
    "        path = Path(row[path_col])\n",
    "        path = remap_results_path(src=path, new_root=path_results)\n",
    "        with path.open(\"r\") as f:\n",
    "            for line in f:\n",
    "                if not line.strip():\n",
    "                    continue\n",
    "                new_row = row.to_dict()\n",
    "                new_row[value_col] = float(line.strip())\n",
    "                frames.append(new_row)\n",
    "    \n",
    "    df = pd.DataFrame(frames)\n",
    "    \n",
    "    lkv = list(set(df[\"kernel_version\"]))\n",
    "    assert 1 == len(lkv)\n",
    "    kernel_version = lkv[0]\n",
    "    kernel_version\n",
    "    \n",
    "    g = sns.catplot(\n",
    "        data=df,\n",
    "        kind=\"violin\",\n",
    "        y=\"latency\",\n",
    "        x=\"threads\",\n",
    "        hue=\"language\",\n",
    "        split=True,\n",
    "        inner=\"quart\",\n",
    "        height=7,\n",
    "        aspect=1.5,\n",
    "        width=0.9,\n",
    "        #legend=False,\n",
    "    )\n",
    "    \n",
    "    # Axis labels\n",
    "    g.set_axis_labels(\"Number of cyclictest threads\", \"Cyclictest latency (ns)\")\n",
    "    \n",
    "    # Main title (instead of set_titles)\n",
    "    g.fig.suptitle(\n",
    "        f\"Comparing latencies of C and Mojo for cyclictest - {kernel_version} kernel\",\n",
    "        y=1.02  # push title a bit up\n",
    "    )\n",
    "    \n",
    "    # Legend: remove title, put on top in one row\n",
    "    sns.move_legend(\n",
    "        g,\n",
    "        \"lower center\",\n",
    "        bbox_to_anchor=(.25, 0.88),\n",
    "        ncol=2,\n",
    "        title=None,\n",
    "        frameon=False,\n",
    "    )\n",
    "    \n",
    "    plt.show()\n",
    "\n",
    "    export_fig(g, chart_dst_filename)\n",
    "\n",
    "    return dataframe"
   ]
  },
  {
   "cell_type": "code",
   "execution_count": null,
   "id": "eeda4a9c-2a86-4787-8ae0-b7087324193c",
   "metadata": {},
   "outputs": [],
   "source": [
    "df = gen_cyclictest_chart(\n",
    "    path_results=Path(\"results/cyclictest.nrt/\"),\n",
    "    chart_dst_filename=fig_dir / \"cyclic-nrt.pdf\",\n",
    ")"
   ]
  },
  {
   "cell_type": "code",
   "execution_count": null,
   "id": "61ddc839-118b-429d-ae45-9749f9380d0f",
   "metadata": {},
   "outputs": [],
   "source": [
    "gen_cyclictest_chart(\n",
    "    path_results=Path(\"results/cyclictest.rt/\"),\n",
    "    chart_dst_filename=fig_dir / \"cyclic-rt.pdf\",\n",
    ")"
   ]
  },
  {
   "cell_type": "markdown",
   "id": "3b06531c-6959-4133-abdc-ef9324c88062",
   "metadata": {},
   "source": [
    "# Binary file size"
   ]
  },
  {
   "cell_type": "code",
   "execution_count": null,
   "id": "de171647",
   "metadata": {},
   "outputs": [],
   "source": [
    "path_results = Path(\"results/size\")\n",
    "csv_paths = [path_results / f for f in os.listdir(path_results) if f.endswith(\".csv\")]\n",
    "dataframes = [get_dataframe(p) for p in sorted(csv_paths)]\n",
    "dataframe = pd.concat(dataframes)\n",
    "df = dataframe\n",
    "\n",
    "df[\"src_filename\"] = (\n",
    "    df[\"src_filename\"]\n",
    "    .str.replace(\"knmp\", \"String search (KMP)\", regex=True)\n",
    "    .str.replace(\"mandelbrot\", \"Mandelbrot\", regex=True)\n",
    "    .str.replace(\"matmul\", \"Matrix multiplication\", regex=True)\n",
    ")"
   ]
  },
  {
   "cell_type": "code",
   "execution_count": null,
   "id": "21be344a",
   "metadata": {},
   "outputs": [],
   "source": [
    "# Ensure required columns are present\n",
    "required = {\"language\",\"src_filename\",\"filesize\"}\n",
    "missing = required - set(df.columns)\n",
    "assert not missing, f\"Missing columns: {missing}\"\n",
    "\n",
    "# Parse language into family + opt level, without losing raw rows\n",
    "def split_lang(s: str):\n",
    "    m = re.match(r\"^\\s*([A-Za-z\\+\\-]+(?:\\s*[A-Za-z\\-]+)?)\\s*(?:(-O[0-3]|-Ofast))?\\s*$\", str(s))\n",
    "    if not m:\n",
    "        return s.strip(), \"unspecified\"\n",
    "    fam = m.group(1).strip()\n",
    "    opt = (m.group(2) or \"-O0\").strip()\n",
    "    return fam, opt\n",
    "\n",
    "fam_opt = df[\"language\"].apply(split_lang)\n",
    "df[\"lang_family\"] = fam_opt.apply(lambda x: x[0])\n",
    "\n",
    "df[\"lang_family\"] = (\n",
    "    df[\"lang_family\"]\n",
    "    .str.replace(\"c-clang\", \"C (Clang)\", regex=True)\n",
    "    .str.replace(\"c-gcc\", \"C (GCC)\", regex=True)\n",
    "    .str.replace(\"cpp-clang\", \"C++ (Clang)\", regex=True)\n",
    "    .str.replace(\"cpp-gcc\", \"C++ (GCC)\", regex=True)\n",
    "    .str.replace(\"mojo\", \"Mojo\", regex=True)\n",
    "    .str.replace(\"rust\", \"Rust\", regex=True)\n",
    ")\n",
    "\n",
    "set(df[\"lang_family\"])\n",
    "\n",
    "df[\"opt_level\"]   = fam_opt.apply(lambda x: x[1])\n",
    "\n",
    "# Orders for nice, consistent axes\n",
    "opt_order  = [\"-O0\", \"-O3\",]\n",
    "df[\"lang_family\"] = (\n",
    "    df[\"lang_family\"]\n",
    "    .str.replace(\"mojo\", \"Mojo\", regex=True)\n",
    "    .str.replace(\"rust\", \"Rust\", regex=True)\n",
    ")\n",
    "lang_order = sorted(df[\"lang_family\"].dropna().unique(), key=lambda s: (\"mojo\" not in s.lower(), s.lower()))\n",
    "\n",
    "# Cast to categoricals for stable plotting order\n",
    "df[\"opt_level\"]   = pd.Categorical(df[\"opt_level\"],   categories=opt_order, ordered=True)\n",
    "df[\"lang_family\"] = pd.Categorical(df[\"lang_family\"], categories=lang_order, ordered=False)\n",
    "\n",
    "df = df[df[\"opt_level\"] != \"unspecified\"]\n",
    "df = df[df[\"opt_level\"] != \"-Ofast\"]"
   ]
  },
  {
   "cell_type": "code",
   "execution_count": null,
   "id": "edcb24bf",
   "metadata": {},
   "outputs": [],
   "source": [
    "g = sns.catplot(\n",
    "    data=df,\n",
    "    x=\"opt_level\", y=\"filesize\",\n",
    "    hue=\"lang_family\",\n",
    "    col=\"src_filename\",\n",
    "    order=opt_order, hue_order=lang_order,\n",
    "    kind=\"bar\",\n",
    "    errorbar=(\"pi\", 95),  # 95% percentile interval\n",
    "    capsize=0.15,\n",
    "    sharey=False,\n",
    "    height=3.8, aspect=1.2\n",
    ")\n",
    "g.set_ylabels('Executable file size (bytes)',fontsize=15)\n",
    "g.legend.set_title(None)\n",
    "for ax in g.axes.flat:\n",
    "        ax.set(yscale=\"log\")\n",
    "\n",
    "g.set_axis_labels(\"Optimization level\", \"Executable size (bytes)\")\n",
    "g.set_titles(\"{col_name}\")\n",
    "\n",
    "sns.move_legend(\n",
    "    g, \"lower center\",\n",
    "    bbox_to_anchor=(.47, -0.13), ncol=6, title=None, frameon=False,\n",
    ")"
   ]
  },
  {
   "cell_type": "code",
   "execution_count": null,
   "id": "0214a6ee",
   "metadata": {},
   "outputs": [],
   "source": [
    "export_fig(g, fig_dir / \"sizes.pdf\")"
   ]
  },
  {
   "cell_type": "markdown",
   "id": "28765dc9",
   "metadata": {},
   "source": [
    "## GPU"
   ]
  },
  {
   "cell_type": "code",
   "execution_count": null,
   "id": "e7a25fee",
   "metadata": {},
   "outputs": [],
   "source": [
    "path_results = Path(\"results/gpu\")\n",
    "csv_paths = [path_results / f for f in os.listdir(path_results) if f.endswith(\".csv\")]\n",
    "dataframes = [get_dataframe(p) for p in sorted(csv_paths)]\n",
    "dataframe = pd.concat(dataframes)\n",
    "df = dataframe\n"
   ]
  },
  {
   "cell_type": "code",
   "execution_count": null,
   "id": "e5f05a0e-2172-4537-b233-b1b51d171aea",
   "metadata": {},
   "outputs": [],
   "source": [
    "df[\"src_filename\"] = (\n",
    "    df[\"src_filename\"]\n",
    "    .str.replace(\"matmul_gpu\", \"GPU Matrix Multiplication\", regex=True)\n",
    "    .str.replace(\"matmul\", \"CPU Matrix Multiplication\", regex=True)\n",
    ")\n",
    "\n",
    "df[\"runtime\"] /= 1000.0\n",
    "\n",
    "df\n"
   ]
  },
  {
   "cell_type": "code",
   "execution_count": null,
   "id": "d42c0206",
   "metadata": {},
   "outputs": [],
   "source": [
    "# Ensure required columns are present\n",
    "required = {\"language\",\"src_filename\",\"runtime\"}\n",
    "missing = required - set(df.columns)\n",
    "assert not missing, f\"Missing columns: {missing}\"\n",
    "\n",
    "# Parse language into family + opt level, without losing raw rows\n",
    "def split_lang(s: str):\n",
    "    m = re.match(r\"^\\s*([A-Za-z\\+\\-]+(?:\\s*[A-Za-z\\-]+)?)\\s*(?:(-O[0-3]|-Ofast))?\\s*$\", str(s))\n",
    "    if not m:\n",
    "        return s.strip(), \"unspecified\"\n",
    "    fam = m.group(1).strip()\n",
    "    opt = (m.group(2) or \"unspecified\").strip()\n",
    "    return fam, opt\n",
    "\n",
    "fam_opt = df[\"language\"].apply(split_lang)\n",
    "df[\"lang_family\"] = fam_opt.apply(lambda x: x[0])\n",
    "df[\"opt_level\"]   = fam_opt.apply(lambda x: x[1])\n",
    "\n",
    "# Orders for nice, consistent axes\n",
    "opt_order  = [\"-O1\", \"-O2\", \"-O3\",]\n",
    "lang_order = sorted(df[\"lang_family\"].dropna().unique(), key=lambda s: (\"mojo\" not in s.lower(), s.lower()))\n",
    "\n",
    "# Cast to categoricals for stable plotting order\n",
    "df[\"opt_level\"]   = pd.Categorical(df[\"opt_level\"],   categories=opt_order, ordered=True)\n",
    "df[\"lang_family\"] = pd.Categorical(df[\"lang_family\"], categories=lang_order, ordered=False)\n",
    "\n",
    "df = df[df[\"opt_level\"] != \"unspecified\"]\n",
    "df = df[df[\"opt_level\"] != \"-Ofast\"]\n"
   ]
  },
  {
   "cell_type": "code",
   "execution_count": null,
   "id": "87c4045c",
   "metadata": {},
   "outputs": [],
   "source": [
    "g = sns.catplot(\n",
    "    data=df,\n",
    "    x=\"size\", y=\"runtime\",\n",
    "    hue=\"src_filename\",\n",
    "    kind=\"bar\",\n",
    "    errorbar=(\"pi\", 95),  # 95% percentile interval\n",
    "    capsize=0.15,\n",
    "    sharey=False,\n",
    "    height=4.4, aspect=1.3\n",
    ")\n",
    "\n",
    "g.set_axis_labels(\"Matrix Size\", \"Runtime (ms)\")\n",
    "sns.move_legend(\n",
    "    g, \"lower center\",\n",
    "    bbox_to_anchor=(0.4, 0.9), ncol=1, title=None, frameon=False,\n",
    ")\n"
   ]
  },
  {
   "cell_type": "code",
   "execution_count": null,
   "id": "fddfd088-a90d-4137-a0ae-e62c0fb6e612",
   "metadata": {},
   "outputs": [],
   "source": [
    "export_fig(g, fig_dir / \"gpu-runtime.pdf\")"
   ]
  },
  {
   "cell_type": "code",
   "execution_count": null,
   "id": "734bb475-8f2f-47a0-9897-70608745424a",
   "metadata": {},
   "outputs": [],
   "source": [
    "g = sns.catplot(\n",
    "    data=df,\n",
    "    kind=\"violin\",\n",
    "    y=\"runtime\",\n",
    "    col=\"size\",\n",
    "    hue=\"src_filename\",\n",
    "    # split=True,\n",
    "    inner=\"quart\"\n",
    ")"
   ]
  },
  {
   "cell_type": "code",
   "execution_count": null,
   "id": "2cf77389-311b-4f67-9d20-b91a8b0dce84",
   "metadata": {},
   "outputs": [],
   "source": [
    "# def norm(dataframer):\n",
    "#     l = []\n",
    "#     for s in dataframer[\"size\"].unique():\n",
    "#         dataframe = dataframer[dataframer['size'] == s]\n",
    "#         for lan in dataframe[\"src_filename\"].unique():\n",
    "#             mojodf = dataframe[dataframe.src_filename == lan]\n",
    "#             avg = np.average(mojodf['runtime'])\n",
    "#             nw = (dataframe[dataframe.src_filename == lan]['runtime'] / avg) - 1\n",
    "#             dataframe.loc[dataframe[\"src_filename\"] == lan,'normalized'] = nw\n",
    "#         l.append(dataframe)\n",
    "#     return pd.concat(l)\n",
    "\n",
    "# def shiftr(dataframer):\n",
    "#     l = []\n",
    "#     for s in dataframer[\"size\"].unique():\n",
    "#         dataframe = dataframer[dataframer['size'] == s]\n",
    "#         for lan in dataframe[\"src_filename\"].unique():\n",
    "#             mojodf = dataframe[dataframe.src_filename == lan]\n",
    "#             avg = np.average(mojodf['runtime'])\n",
    "#             nw = (dataframe[dataframe.src_filename == lan]['runtime'] - avg)\n",
    "#             dataframe.loc[dataframe[\"src_filename\"] == lan,'shifted'] = nw\n",
    "#         l.append(dataframe)\n",
    "#     return pd.concat(l)\n",
    "\n",
    "# nwdf_norm = norm(df)\n",
    "# nwdf_shift = shiftr(df)\n",
    "\n",
    "# g = sns.catplot(\n",
    "#     data=nwdf_norm,\n",
    "#     kind=\"violin\",\n",
    "#     y=\"normalized\",\n",
    "#     col=\"size\",\n",
    "#     hue=\"src_filename\",\n",
    "#     split=True,\n",
    "#     inner=\"quart\"\n",
    "# )\n",
    "\n",
    "# g = sns.catplot(\n",
    "#     data=nwdf_shift,\n",
    "#     kind=\"violin\",\n",
    "#     y=\"shifted\",\n",
    "#     col=\"size\",\n",
    "#     hue=\"src_filename\",\n",
    "#     split=True,\n",
    "#     inner=\"quart\"\n",
    "# )"
   ]
  }
 ],
 "metadata": {
  "kernelspec": {
   "display_name": "Python 3 (ipykernel)",
   "language": "python",
   "name": "python3"
  },
  "language_info": {
   "codemirror_mode": {
    "name": "ipython",
    "version": 3
   },
   "file_extension": ".py",
   "mimetype": "text/x-python",
   "name": "python",
   "nbconvert_exporter": "python",
   "pygments_lexer": "ipython3",
   "version": "3.10.12"
  }
 },
 "nbformat": 4,
 "nbformat_minor": 5
}
