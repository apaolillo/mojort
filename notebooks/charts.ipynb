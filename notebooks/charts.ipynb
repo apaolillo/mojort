{
 "cells": [
  {
   "cell_type": "markdown",
   "id": "8ba0b3d9-1d81-4084-a585-278f196dd255",
   "metadata": {},
   "source": [
    "# Charts for mojort paper"
   ]
  },
  {
   "cell_type": "markdown",
   "id": "45dd2b84-4e56-4f9e-9acb-08b7c7d59554",
   "metadata": {},
   "source": [
    "## Boiler plates"
   ]
  },
  {
   "cell_type": "code",
   "execution_count": null,
   "id": "202dbf85-fd83-4aa2-abf5-f87eccf19e87",
   "metadata": {},
   "outputs": [],
   "source": [
    "import pandas as pd\n",
    "import seaborn as sns\n",
    "from benchkit.charts.printedcharts import export_figure\n",
    "import matplotlib.pyplot as plt\n",
    "import benchkit\n",
    "#import cairosvg\n",
    "from benchkit.charts.dataframes import get_dataframe\n",
    "import os\n",
    "from pathlib import Path\n",
    "from benchkit.utils.dir import gitmainrootdir\n",
    "import re"
   ]
  },
  {
   "cell_type": "code",
   "execution_count": null,
   "id": "8b7cb6fd-362a-4c40-ac00-5a127c0fefe2",
   "metadata": {},
   "outputs": [],
   "source": [
    "repo_dir = gitmainrootdir()\n",
    "paper_dir = Path(\"/home/antonio/Dropbox/Applications/ShareLaTeX/rtns25_mojo_realtime/\")\n",
    "#paper_dir = Path(\"/tmp\")\n",
    "\n",
    "fig_dir = paper_dir / \"figures/generated\"\n",
    "\n",
    "os.makedirs(str(fig_dir), exist_ok=True)"
   ]
  },
  {
   "cell_type": "code",
   "execution_count": null,
   "id": "3a5a887c-0fca-4a5b-be27-1d166d23dbfe",
   "metadata": {},
   "outputs": [],
   "source": [
    "def make_parent(\n",
    "    path: Path,\n",
    ") -> None:\n",
    "    parent_dir = Path(path).parent.resolve()\n",
    "    parent_dir.mkdir(parents=True, exist_ok=True)"
   ]
  },
  {
   "cell_type": "code",
   "execution_count": null,
   "id": "59833dc0-f4c2-49bb-a03f-9e74fc6e6693",
   "metadata": {},
   "outputs": [],
   "source": [
    "def export_fig(\n",
    "    plot,\n",
    "    path: Path,\n",
    ") -> None:\n",
    "    make_parent(path)\n",
    "\n",
    "    export_figure(\n",
    "        plot=plot,\n",
    "        path=path,\n",
    "        creation_year=2024,\n",
    "        creation_month=12,\n",
    "        creation_day=10,\n",
    "    )"
   ]
  },
  {
   "cell_type": "code",
   "execution_count": null,
   "id": "1a28c418-5185-486d-a15d-c5518f7e8202",
   "metadata": {},
   "outputs": [],
   "source": [
    "CONTEXT = \"talk\"\n",
    "STYLE = \"whitegrid\"\n",
    "PALETTE = \"colorblind\"\n",
    "# ESTIMATOR = np.median\n",
    "ESTIMATOR_STR = \"median\"\n",
    "# CONFINT = 'sd'\n",
    "FIG_USE_LATEX_FONTS = True"
   ]
  },
  {
   "cell_type": "code",
   "execution_count": null,
   "id": "da43f731-4d1c-4d29-b824-51def92136e7",
   "metadata": {},
   "outputs": [],
   "source": [
    "def set_config(width=8, height=6, font_scale=1.15):\n",
    "    sns.set_theme(\n",
    "        context=CONTEXT,\n",
    "        style=STYLE,\n",
    "        palette=PALETTE,\n",
    "        font_scale=font_scale,\n",
    "        rc={\n",
    "            \"figure.figsize\": (width, height),\n",
    "            \"pdf.fonttype\": 42,\n",
    "            \"pdf.use14corefonts\": True,\n",
    "            \"text.usetex\": FIG_USE_LATEX_FONTS,\n",
    "        },\n",
    "    )"
   ]
  },
  {
   "cell_type": "code",
   "execution_count": null,
   "id": "caeec04b-4b50-4746-bdf2-de8ca328a31f",
   "metadata": {},
   "outputs": [],
   "source": [
    "set_config()"
   ]
  },
  {
   "cell_type": "markdown",
   "id": "d4e4a882-5e71-4a79-bf55-9c2199c9377c",
   "metadata": {},
   "source": [
    "## Microbenches"
   ]
  },
  {
   "cell_type": "code",
   "execution_count": null,
   "id": "2791f513-5648-4576-b424-2023505f2569",
   "metadata": {},
   "outputs": [],
   "source": [
    "path_results = Path(\"results/microbenches/\")\n",
    "csv_paths = [path_results / f for f in os.listdir(path_results) if f.endswith(\".csv\")]\n",
    "dataframes = [get_dataframe(p) for p in sorted(csv_paths)]\n",
    "# dataframes = dataframes[::-1] # reverse data frame order\n",
    "dataframe = pd.concat(dataframes)\n",
    "df = dataframe"
   ]
  },
  {
   "cell_type": "code",
   "execution_count": null,
   "id": "3f06a96b-2de2-47a6-959c-02ba6360f965",
   "metadata": {},
   "outputs": [],
   "source": [
    "df[\"src_filename\"] = (\n",
    "    df[\"src_filename\"]\n",
    "    .str.replace(\"knmp\", \"String search (KMP)\", regex=True)\n",
    "    .str.replace(\"mandelbrot\", \"Mandelbrot\", regex=True)\n",
    "    .str.replace(\"matmul\", \"Matrix multiplication\", regex=True)\n",
    ")"
   ]
  },
  {
   "cell_type": "code",
   "execution_count": null,
   "id": "796ca884-d499-4879-8bfa-4a7ac0303dd3",
   "metadata": {
    "scrolled": true
   },
   "outputs": [],
   "source": [
    "df[\"runtime\"] /= 1000.0 # µs to ms"
   ]
  },
  {
   "cell_type": "code",
   "execution_count": null,
   "id": "120b3609-799d-402c-9844-9b60f1e06333",
   "metadata": {},
   "outputs": [],
   "source": [
    "df"
   ]
  },
  {
   "cell_type": "code",
   "execution_count": null,
   "id": "8e2eb287-1492-4c6a-bdbd-ff9973c99035",
   "metadata": {},
   "outputs": [],
   "source": [
    "# Ensure required columns\n",
    "required = {\"language\",\"src_filename\",\"size\",\"runtime\"}\n",
    "missing = required - set(df.columns)\n",
    "assert not missing, f\"Missing columns: {missing}\"\n",
    "\n",
    "# Parse language into family + opt level\n",
    "def split_lang(s: str):\n",
    "    m = re.match(r\"^\\s*([A-Za-z\\+\\-]+(?:\\s*[A-Za-z\\-]+)?)\\s*(?:(-O[0-3]|-Ofast))?\\s*$\", str(s))\n",
    "    if not m:\n",
    "        return s.strip(), \"unspecified\"\n",
    "    fam = m.group(1).strip()\n",
    "    opt = (m.group(2) or \"unspecified\").strip()\n",
    "    return fam, opt\n",
    "\n",
    "fam_opt = df[\"language\"].apply(split_lang)\n",
    "df[\"lang_family\"] = fam_opt.str[0]\n",
    "df[\"opt_level\"]   = fam_opt.str[1]\n",
    "\n",
    "# Orders for plotting\n",
    "opt_order  = [\"-O1\", \"-O2\", \"-O3\"]\n",
    "size_order = sorted(df[\"size\"].dropna().unique())\n",
    "lang_order = sorted(df[\"lang_family\"].dropna().unique(),\n",
    "                    key=lambda s: (\"mojo\" not in s.lower(), s.lower()))\n",
    "\n",
    "# Cast before slicing\n",
    "df[\"opt_level\"]   = pd.Categorical(df[\"opt_level\"],   categories=opt_order, ordered=True)\n",
    "df[\"size\"]        = pd.Categorical(df[\"size\"],        categories=size_order, ordered=True)\n",
    "df[\"lang_family\"] = pd.Categorical(df[\"lang_family\"], categories=lang_order, ordered=False)\n",
    "\n",
    "# Now filter\n",
    "df = df[~df[\"opt_level\"].isin([\"unspecified\", \"-Ofast\"])]"
   ]
  },
  {
   "cell_type": "code",
   "execution_count": null,
   "id": "73f6fa8b-a339-407d-a6fa-587f0dda7177",
   "metadata": {},
   "outputs": [],
   "source": [
    "plot_df = (\n",
    "    df.loc[df[\"opt_level\"].isin(opt_order)]\n",
    "      .dropna(subset=[\"src_filename\", \"size\", \"lang_family\", \"runtime\", \"opt_level\"])\n",
    "      .copy()\n",
    ")\n",
    "\n",
    "# Reset index to avoid duplicate-label issues inside seaborn\n",
    "plot_df.reset_index(drop=True, inplace=True)\n",
    "\n",
    "# Flatten (src_filename, size) into one panel column\n",
    "plot_df[\"panel\"] = (\n",
    "    plot_df[\"src_filename\"].astype(str)\n",
    "    + \" — size \"\n",
    "    + plot_df[\"size\"].astype(str)\n",
    ")\n",
    "\n",
    "plot_df[\"size_num\"] = pd.to_numeric(plot_df[\"size\"].astype(str), errors=\"coerce\")\n",
    "panel_order = (plot_df[[\"panel\", \"src_filename\", \"size_num\"]]\n",
    "               .drop_duplicates()\n",
    "               .sort_values([\"src_filename\", \"size_num\"])[\"panel\"].tolist())\n",
    "\n",
    "local_lang_order = [x for x in lang_order if x in plot_df[\"lang_family\"].unique()]"
   ]
  },
  {
   "cell_type": "code",
   "execution_count": null,
   "id": "f7b4dbc5-cc1d-4391-a7d3-df7ce1729998",
   "metadata": {},
   "outputs": [],
   "source": [
    "g = sns.catplot(\n",
    "    data=plot_df,\n",
    "    x=\"opt_level\", y=\"runtime\",\n",
    "    hue=\"lang_family\",\n",
    "    col=\"panel\", col_order=panel_order, col_wrap=2,\n",
    "    order=opt_order, hue_order=local_lang_order,\n",
    "    kind=\"bar\",\n",
    "    errorbar=(\"pi\", 95),\n",
    "    capsize=0.15,\n",
    "    sharey=False,\n",
    "    height=3.8, aspect=2.0,\n",
    ")\n",
    "\n",
    "g.set_axis_labels(\"Optimization level\", \"Runtime (ms)\")\n",
    "g.set_titles(\"{col_name}\")\n",
    "#g.add_legend(title=\"Language\")\n",
    "# Legend: remove title, put on top in one row\n",
    "sns.move_legend(\n",
    "    g, \"lower center\",\n",
    "    bbox_to_anchor=(.5, -0.04), ncol=6, title=None, frameon=False,\n",
    ")\n",
    "\n",
    "#plt.tight_layout()\n",
    "plt.show()"
   ]
  },
  {
   "cell_type": "code",
   "execution_count": null,
   "id": "91c993dd-17fc-4250-b71e-8f0a316a20d8",
   "metadata": {},
   "outputs": [],
   "source": [
    "export_fig(g, fig_dir / \"microbenches.pdf\")"
   ]
  },
  {
   "cell_type": "markdown",
   "id": "54c7d792",
   "metadata": {},
   "source": [
    "## cyclictest"
   ]
  },
  {
   "cell_type": "markdown",
   "id": "54bd8b34-347c-4857-99d2-054e355522c1",
   "metadata": {},
   "source": [
    "### cyclictest-nrt"
   ]
  },
  {
   "cell_type": "code",
   "execution_count": null,
   "id": "eeda4a9c-2a86-4787-8ae0-b7087324193c",
   "metadata": {},
   "outputs": [],
   "source": [
    "path_results = Path(\"results/cyclictest-last/results.nrt.12/\")\n",
    "old_prefix = Path(\"/home/tony/antonio/mojort/mojort/campaigns/results/\")\n",
    "csv_paths = [path_results / f for f in os.listdir(path_results) if f.endswith(\".csv\")]\n",
    "dataframes = [get_dataframe(p) for p in sorted(csv_paths)]\n",
    "\n",
    "dataframe = pd.concat(dataframes)\n",
    "\n",
    "frames = []\n",
    "path_col = \"datapath\"\n",
    "value_col = \"latency\"\n",
    "for _, row in dataframe.iterrows():\n",
    "    old_path = Path(row[path_col])\n",
    "    path = path_results.joinpath(old_path.relative_to(old_prefix))\n",
    "    with path.open(\"r\") as f:\n",
    "        for line in f:\n",
    "            if not line.strip():\n",
    "                continue\n",
    "            new_row = row.to_dict()\n",
    "            new_row[value_col] = float(line.strip())\n",
    "            frames.append(new_row)\n",
    "df = pd.DataFrame(frames)"
   ]
  },
  {
   "cell_type": "code",
   "execution_count": null,
   "id": "8d87915b-5a8e-4883-b49d-b04a6a99cedf",
   "metadata": {},
   "outputs": [],
   "source": [
    "lkv = list(set(df[\"kernel_version\"]))\n",
    "assert 1 == len(lkv)\n",
    "kernel_version = lkv[0]\n",
    "kernel_version"
   ]
  },
  {
   "cell_type": "code",
   "execution_count": null,
   "id": "250b48d8-3766-4c86-9642-cebf43b5d9dd",
   "metadata": {},
   "outputs": [],
   "source": [
    "g = sns.catplot(\n",
    "    data=df,\n",
    "    kind=\"violin\",\n",
    "    y=\"latency\",\n",
    "    x=\"threads\",\n",
    "    hue=\"language\",\n",
    "    split=True,\n",
    "    inner=\"quart\",\n",
    "    height=7,\n",
    "    aspect=1.5,\n",
    "    width=0.9,\n",
    "    #legend=False,\n",
    ")\n",
    "\n",
    "# Axis labels\n",
    "g.set_axis_labels(\"Number of cyclictest threads\", \"Cyclictest latency (ns)\")\n",
    "\n",
    "# Main title (instead of set_titles)\n",
    "g.fig.suptitle(\n",
    "    f\"Comparing latencies of C and Mojo for cyclictest - {kernel_version} kernel\",\n",
    "    y=1.02  # push title a bit up\n",
    ")\n",
    "\n",
    "# Legend: remove title, put on top in one row\n",
    "sns.move_legend(\n",
    "    g, \"lower center\",\n",
    "    bbox_to_anchor=(.25, 0.87), ncol=2, title=None, frameon=False,\n",
    ")\n",
    "\n",
    "plt.show()"
   ]
  },
  {
   "cell_type": "code",
   "execution_count": null,
   "id": "cb1704e5-0de9-4bba-9108-a83db54a8d61",
   "metadata": {},
   "outputs": [],
   "source": [
    "export_fig(g, fig_dir / \"cyclic-nrt.pdf\")"
   ]
  },
  {
   "cell_type": "markdown",
   "id": "de275a2a-f523-4914-a80e-ecf14483f0d8",
   "metadata": {},
   "source": [
    "### cyclictest-rt"
   ]
  },
  {
   "cell_type": "code",
   "execution_count": null,
   "id": "8916cb53-37b5-4cda-83ae-ae60ae0ef9a8",
   "metadata": {},
   "outputs": [],
   "source": [
    "path_results = Path(\"results/cyclictest-last/results.rt.12/\")\n",
    "old_prefix = Path(\"/home/tony/antonio/mojort/mojort/campaigns/results/\")\n",
    "csv_paths = [path_results / f for f in os.listdir(path_results) if f.endswith(\".csv\")]\n",
    "dataframes = [get_dataframe(p) for p in sorted(csv_paths)]\n",
    "\n",
    "dataframe = pd.concat(dataframes)\n",
    "\n",
    "frames = []\n",
    "path_col = \"datapath\"\n",
    "value_col = \"latency\"\n",
    "for _, row in dataframe.iterrows():\n",
    "    old_path = Path(row[path_col])\n",
    "    path = path_results.joinpath(old_path.relative_to(old_prefix))\n",
    "    with path.open(\"r\") as f:\n",
    "        for line in f:\n",
    "            if not line.strip():\n",
    "                continue\n",
    "            new_row = row.to_dict()\n",
    "            new_row[value_col] = float(line.strip())\n",
    "            frames.append(new_row)\n",
    "df = pd.DataFrame(frames)"
   ]
  },
  {
   "cell_type": "code",
   "execution_count": null,
   "id": "c3c5220a-5686-40c8-ae77-253375029195",
   "metadata": {},
   "outputs": [],
   "source": [
    "lkv = list(set(df[\"kernel_version\"]))\n",
    "assert 1 == len(lkv)\n",
    "kernel_version = lkv[0]\n",
    "kernel_version"
   ]
  },
  {
   "cell_type": "code",
   "execution_count": null,
   "id": "07fe3d21-a6c1-4e31-b3f8-37e447938d61",
   "metadata": {},
   "outputs": [],
   "source": [
    "g = sns.catplot(\n",
    "    data=df,\n",
    "    kind=\"violin\",\n",
    "    y=\"latency\",\n",
    "    x=\"threads\",\n",
    "    hue=\"language\",\n",
    "    split=True,\n",
    "    inner=\"quart\",\n",
    "    height=7,\n",
    "    aspect=1.5,\n",
    "    width=0.9,\n",
    "    #legend=False,\n",
    ")\n",
    "\n",
    "# Axis labels\n",
    "g.set_axis_labels(\"Number of cyclictest threads\", \"Cyclictest latency (ns)\")\n",
    "\n",
    "# Main title (instead of set_titles)\n",
    "g.fig.suptitle(\n",
    "    f\"Comparing latencies of C and Mojo for cyclictest - {kernel_version} kernel\",\n",
    "    y=1.02  # push title a bit up\n",
    ")\n",
    "\n",
    "# Legend: remove title, put on top in one row\n",
    "sns.move_legend(\n",
    "    g, \"lower center\",\n",
    "    bbox_to_anchor=(.25, 0.87), ncol=2, title=None, frameon=False,\n",
    ")\n",
    "\n",
    "plt.show()"
   ]
  },
  {
   "cell_type": "code",
   "execution_count": null,
   "id": "ae0e6383-745b-42f0-bb78-6cc1a2e4ae72",
   "metadata": {},
   "outputs": [],
   "source": [
    "export_fig(g, fig_dir / \"cyclic-rt.pdf\")"
   ]
  },
  {
   "cell_type": "code",
   "execution_count": null,
   "id": "6fa33de4-9333-44df-868c-b933cf77bbac",
   "metadata": {},
   "outputs": [],
   "source": [
    "trg"
   ]
  },
  {
   "cell_type": "markdown",
   "id": "28765dc9",
   "metadata": {},
   "source": [
    "## gpu"
   ]
  },
  {
   "cell_type": "code",
   "execution_count": null,
   "id": "e7a25fee",
   "metadata": {},
   "outputs": [],
   "source": [
    "path_results = Path(\"results/gpu\")\n",
    "csv_paths = [path_results / f for f in os.listdir(path_results) if f.endswith(\".csv\")]\n",
    "dataframes = [get_dataframe(p) for p in sorted(csv_paths)]\n",
    "dataframe = pd.concat(dataframes)\n",
    "df = dataframe"
   ]
  },
  {
   "cell_type": "code",
   "execution_count": null,
   "id": "d42c0206",
   "metadata": {},
   "outputs": [],
   "source": [
    "# Ensure required columns are present\n",
    "required = {\"language\",\"src_filename\",\"runtime\"}\n",
    "missing = required - set(df.columns)\n",
    "assert not missing, f\"Missing columns: {missing}\"\n",
    "\n",
    "# Parse language into family + opt level, without losing raw rows\n",
    "def split_lang(s: str):\n",
    "    m = re.match(r\"^\\s*([A-Za-z\\+\\-]+(?:\\s*[A-Za-z\\-]+)?)\\s*(?:(-O[0-3]|-Ofast))?\\s*$\", str(s))\n",
    "    if not m:\n",
    "        return s.strip(), \"unspecified\"\n",
    "    fam = m.group(1).strip()\n",
    "    opt = (m.group(2) or \"unspecified\").strip()\n",
    "    return fam, opt\n",
    "\n",
    "fam_opt = df[\"language\"].apply(split_lang)\n",
    "df[\"lang_family\"] = fam_opt.apply(lambda x: x[0])\n",
    "df[\"opt_level\"]   = fam_opt.apply(lambda x: x[1])\n",
    "\n",
    "# Orders for nice, consistent axes\n",
    "opt_order  = [\"-O1\", \"-O2\", \"-O3\",]\n",
    "lang_order = sorted(df[\"lang_family\"].dropna().unique(), key=lambda s: (\"mojo\" not in s.lower(), s.lower()))\n",
    "\n",
    "# Cast to categoricals for stable plotting order\n",
    "df[\"opt_level\"]   = pd.Categorical(df[\"opt_level\"],   categories=opt_order, ordered=True)\n",
    "df[\"lang_family\"] = pd.Categorical(df[\"lang_family\"], categories=lang_order, ordered=False)\n",
    "\n",
    "df = df[df[\"opt_level\"] != \"unspecified\"]\n",
    "df = df[df[\"opt_level\"] != \"-Ofast\"]"
   ]
  },
  {
   "cell_type": "code",
   "execution_count": null,
   "id": "87c4045c",
   "metadata": {},
   "outputs": [],
   "source": [
    "g = sns.catplot(\n",
    "    data=df,\n",
    "    x=\"size\", y=\"runtime\",\n",
    "    hue=\"src_filename\",\n",
    "    kind=\"bar\",\n",
    "    errorbar=(\"pi\", 95),  # 95% percentile interval\n",
    "    capsize=0.15,\n",
    "    sharey=False,\n",
    "    height=3.8, aspect=1.2\n",
    ")"
   ]
  }
 ],
 "metadata": {
  "kernelspec": {
   "display_name": "Python 3 (ipykernel)",
   "language": "python",
   "name": "python3"
  },
  "language_info": {
   "codemirror_mode": {
    "name": "ipython",
    "version": 3
   },
   "file_extension": ".py",
   "mimetype": "text/x-python",
   "name": "python",
   "nbconvert_exporter": "python",
   "pygments_lexer": "ipython3",
   "version": "3.10.12"
  }
 },
 "nbformat": 4,
 "nbformat_minor": 5
}
