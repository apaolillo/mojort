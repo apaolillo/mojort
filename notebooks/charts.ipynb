{
 "cells": [
  {
   "cell_type": "markdown",
   "id": "8ba0b3d9-1d81-4084-a585-278f196dd255",
   "metadata": {},
   "source": [
    "# Charts for mojort paper"
   ]
  },
  {
   "cell_type": "markdown",
   "id": "45dd2b84-4e56-4f9e-9acb-08b7c7d59554",
   "metadata": {},
   "source": [
    "## Boiler plates"
   ]
  },
  {
   "cell_type": "code",
   "execution_count": null,
   "id": "202dbf85-fd83-4aa2-abf5-f87eccf19e87",
   "metadata": {},
   "outputs": [],
   "source": [
    "import pandas as pd\n",
    "import seaborn as sns\n",
    "from benchkit.charts.printedcharts import export_figure\n",
    "import matplotlib.pyplot as plt\n",
    "import benchkit\n",
    "#import cairosvg\n",
    "from benchkit.charts.dataframes import get_dataframe\n",
    "import os\n",
    "from pathlib import Path\n",
    "from benchkit.utils.dir import gitmainrootdir\n",
    "import re\n"
   ]
  },
  {
   "cell_type": "code",
   "execution_count": null,
   "id": "8b7cb6fd-362a-4c40-ac00-5a127c0fefe2",
   "metadata": {},
   "outputs": [],
   "source": [
    "repo_dir = gitmainrootdir()\n",
    "# paper_dir = Path(\"/home/antonio/Dropbox/Applications/ShareLaTeX/rtns25_mojort\")\n",
    "paper_dir = Path(\"/tmp\")\n",
    "\n",
    "fig_dir = paper_dir / \"figures/generated\"\n",
    "\n",
    "os.makedirs(str(fig_dir), exist_ok=True)\n"
   ]
  },
  {
   "cell_type": "code",
   "execution_count": null,
   "id": "3a5a887c-0fca-4a5b-be27-1d166d23dbfe",
   "metadata": {},
   "outputs": [],
   "source": [
    "def make_parent(\n",
    "    path: Path,\n",
    ") -> None:\n",
    "    parent_dir = Path(path).parent.resolve()\n",
    "    parent_dir.mkdir(parents=True, exist_ok=True)\n"
   ]
  },
  {
   "cell_type": "code",
   "execution_count": null,
   "id": "59833dc0-f4c2-49bb-a03f-9e74fc6e6693",
   "metadata": {},
   "outputs": [],
   "source": [
    "def export_fig(\n",
    "    plot,\n",
    "    path: Path,\n",
    ") -> None:\n",
    "    make_parent(path)\n",
    "\n",
    "    export_figure(\n",
    "        plot=plot,\n",
    "        path=path,\n",
    "        creation_year=2024,\n",
    "        creation_month=12,\n",
    "        creation_day=10,\n",
    "    )\n"
   ]
  },
  {
   "cell_type": "code",
   "execution_count": null,
   "id": "1a28c418-5185-486d-a15d-c5518f7e8202",
   "metadata": {},
   "outputs": [],
   "source": [
    "CONTEXT = \"talk\"\n",
    "STYLE = \"whitegrid\"\n",
    "PALETTE = \"colorblind\"\n",
    "# ESTIMATOR = np.median\n",
    "ESTIMATOR_STR = \"median\"\n",
    "# CONFINT = 'sd'\n",
    "FIG_USE_LATEX_FONTS = True\n"
   ]
  },
  {
   "cell_type": "code",
   "execution_count": null,
   "id": "da43f731-4d1c-4d29-b824-51def92136e7",
   "metadata": {},
   "outputs": [],
   "source": [
    "def set_config(width=8, height=6, font_scale=1.15):\n",
    "    sns.set_theme(\n",
    "        context=CONTEXT,\n",
    "        style=STYLE,\n",
    "        palette=PALETTE,\n",
    "        font_scale=font_scale,\n",
    "        rc={\n",
    "            \"figure.figsize\": (width, height),\n",
    "            \"pdf.fonttype\": 42,\n",
    "            \"pdf.use14corefonts\": True,\n",
    "            \"text.usetex\": FIG_USE_LATEX_FONTS,\n",
    "        },\n",
    "    )\n"
   ]
  },
  {
   "cell_type": "code",
   "execution_count": null,
   "id": "caeec04b-4b50-4746-bdf2-de8ca328a31f",
   "metadata": {},
   "outputs": [],
   "source": [
    "set_config()\n"
   ]
  },
  {
   "cell_type": "markdown",
   "id": "d4e4a882-5e71-4a79-bf55-9c2199c9377c",
   "metadata": {},
   "source": [
    "## Microbenches"
   ]
  },
  {
   "cell_type": "markdown",
   "id": "d4e4a882-5e71-4a79-bf55-9c2199c9377c",
   "metadata": {},
   "source": [
    "## Microbenches"
   ]
  },
  {
   "cell_type": "code",
   "execution_count": null,
   "id": "2791f513-5648-4576-b424-2023505f2569",
   "metadata": {},
   "outputs": [
    {
     "ename": "FileNotFoundError",
     "evalue": "[Errno 2] No such file or directory: 'results/microbenches'",
     "output_type": "error",
     "traceback": [
      "\u001b[31m---------------------------------------------------------------------------\u001b[39m",
      "\u001b[31mFileNotFoundError\u001b[39m                         Traceback (most recent call last)",
      "\u001b[36mCell\u001b[39m\u001b[36m \u001b[39m\u001b[32mIn[10]\u001b[39m\u001b[32m, line 2\u001b[39m\n\u001b[32m      1\u001b[39m path_results = Path(\u001b[33m\"\u001b[39m\u001b[33mresults/microbenches/\u001b[39m\u001b[33m\"\u001b[39m)\n\u001b[32m----> \u001b[39m\u001b[32m2\u001b[39m csv_paths = [path_results / f \u001b[38;5;28;01mfor\u001b[39;00m f \u001b[38;5;129;01min\u001b[39;00m \u001b[43mos\u001b[49m\u001b[43m.\u001b[49m\u001b[43mlistdir\u001b[49m\u001b[43m(\u001b[49m\u001b[43mpath_results\u001b[49m\u001b[43m)\u001b[49m \u001b[38;5;28;01mif\u001b[39;00m f.endswith(\u001b[33m\"\u001b[39m\u001b[33m.csv\u001b[39m\u001b[33m\"\u001b[39m)]\n\u001b[32m      3\u001b[39m dataframes = [get_dataframe(p) \u001b[38;5;28;01mfor\u001b[39;00m p \u001b[38;5;129;01min\u001b[39;00m \u001b[38;5;28msorted\u001b[39m(csv_paths)]\n\u001b[32m      4\u001b[39m dataframe = pd.concat(dataframes)\n",
      "\u001b[31mFileNotFoundError\u001b[39m: [Errno 2] No such file or directory: 'results/microbenches'"
     ]
    }
   ],
   "source": [
    "path_results = Path(\"results/microbenches/\")\n",
    "csv_paths = [path_results / f for f in os.listdir(path_results) if f.endswith(\".csv\")]\n",
    "dataframes = [get_dataframe(p) for p in sorted(csv_paths)]\n",
    "dataframe = pd.concat(dataframes)\n",
    "df = dataframe\n"
   ]
  },
  {
   "cell_type": "code",
   "execution_count": null,
   "id": "120b3609-799d-402c-9844-9b60f1e06333",
   "metadata": {},
   "outputs": [],
   "source": [
    "df\n"
   ]
  },
  {
   "cell_type": "code",
   "execution_count": null,
   "id": "8e2eb287-1492-4c6a-bdbd-ff9973c99035",
   "metadata": {},
   "outputs": [],
   "source": [
    "# Ensure required columns\n",
    "required = {\"language\",\"src_filename\",\"size\",\"runtime\"}\n",
    "missing = required - set(df.columns)\n",
    "assert not missing, f\"Missing columns: {missing}\"\n",
    "\n",
    "# Parse language into family + opt level\n",
    "def split_lang(s: str):\n",
    "    m = re.match(r\"^\\s*([A-Za-z\\+\\-]+(?:\\s*[A-Za-z\\-]+)?)\\s*(?:(-O[0-3]|-Ofast))?\\s*$\", str(s))\n",
    "    if not m:\n",
    "        return s.strip(), \"unspecified\"\n",
    "    fam = m.group(1).strip()\n",
    "    opt = (m.group(2) or \"unspecified\").strip()\n",
    "    return fam, opt\n",
    "\n",
    "fam_opt = df[\"language\"].apply(split_lang)\n",
    "df[\"lang_family\"] = fam_opt.str[0]\n",
    "df[\"opt_level\"]   = fam_opt.str[1]\n",
    "\n",
    "# Orders for plotting\n",
    "opt_order  = [\"-O1\", \"-O2\", \"-O3\"]\n",
    "size_order = sorted(df[\"size\"].dropna().unique())\n",
    "lang_order = sorted(df[\"lang_family\"].dropna().unique(),\n",
    "                    key=lambda s: (\"mojo\" not in s.lower(), s.lower()))\n",
    "\n",
    "# Cast before slicing\n",
    "df[\"opt_level\"]   = pd.Categorical(df[\"opt_level\"],   categories=opt_order, ordered=True)\n",
    "df[\"size\"]        = pd.Categorical(df[\"size\"],        categories=size_order, ordered=True)\n",
    "df[\"lang_family\"] = pd.Categorical(df[\"lang_family\"], categories=lang_order, ordered=False)\n",
    "\n",
    "# Now filter\n",
    "df = df[~df[\"opt_level\"].isin([\"unspecified\", \"-Ofast\"])]\n",
    "df = df[df[\"src_filename\"] != \"knmp\"] # TODO remove\n"
   ]
  },
  {
   "cell_type": "code",
   "execution_count": null,
   "id": "b6ca285d-64dd-4317-b26e-28802ce4fc32",
   "metadata": {},
   "outputs": [],
   "source": [
    "plot_df = (\n",
    "    df.loc[df[\"opt_level\"].isin(opt_order)]\n",
    "      .dropna(subset=[\"src_filename\", \"size\", \"lang_family\", \"runtime\", \"opt_level\"])\n",
    "      .copy()\n",
    ")\n",
    "\n",
    "# Reset index to avoid duplicate-label issues inside seaborn\n",
    "plot_df.reset_index(drop=True, inplace=True)\n",
    "\n",
    "# Flatten (src_filename, size) into one panel column\n",
    "plot_df[\"panel\"] = (\n",
    "    plot_df[\"src_filename\"].astype(str)\n",
    "    + \" — size \"\n",
    "    + plot_df[\"size\"].astype(str)\n",
    ")\n",
    "\n",
    "plot_df[\"size_num\"] = pd.to_numeric(plot_df[\"size\"].astype(str), errors=\"coerce\")\n",
    "panel_order = (plot_df[[\"panel\", \"src_filename\", \"size_num\"]]\n",
    "               .drop_duplicates()\n",
    "               .sort_values([\"src_filename\", \"size_num\"])[\"panel\"].tolist())\n",
    "\n",
    "local_lang_order = [x for x in lang_order if x in plot_df[\"lang_family\"].unique()]\n",
    "\n",
    "g = sns.catplot(\n",
    "    data=plot_df,\n",
    "    x=\"opt_level\", y=\"runtime\",\n",
    "    hue=\"lang_family\",\n",
    "    col=\"panel\", col_order=panel_order, col_wrap=2,\n",
    "    order=opt_order, hue_order=local_lang_order,\n",
    "    kind=\"bar\",\n",
    "    errorbar=(\"pi\", 95),\n",
    "    capsize=0.15,\n",
    "    sharey=False,\n",
    "    height=3.8, aspect=1.15,\n",
    ")\n",
    "\n",
    "g.set_axis_labels(\"Optimization level\", \"Runtime (units)\")\n",
    "g.set_titles(\"{col_name}\")\n",
    "g.add_legend(title=\"Language\")\n",
    "#plt.tight_layout()\n",
    "plt.show()\n"
   ]
  },
  {
   "cell_type": "code",
   "execution_count": null,
   "id": "91c993dd-17fc-4250-b71e-8f0a316a20d8",
   "metadata": {},
   "outputs": [],
   "source": [
    "export_fig(g, fig_dir / \"microbenches.pdf\")\n"
   ]
  },
  {
   "cell_type": "markdown",
   "id": "54c7d792",
   "metadata": {},
   "source": [
    "# cyclictest"
   ]
  },
  {
   "cell_type": "code",
   "execution_count": null,
   "id": "eeda4a9c-2a86-4787-8ae0-b7087324193c",
   "metadata": {},
   "outputs": [],
   "source": [
    "path_results = Path(\"results/cyclic\")\n",
    "csv_paths = [path_results / f for f in os.listdir(path_results) if f.endswith(\".csv\")]\n",
    "dataframes = [get_dataframe(p) for p in sorted(csv_paths)]\n",
    "\n",
    "dataframe = pd.concat(dataframes)\n",
    "\n",
    "frames = []\n",
    "path_col = \"datapath\"\n",
    "value_col = \"latency\"\n",
    "for _, row in dataframe.iterrows():\n",
    "    path = Path(row[path_col])\n",
    "    with path.open(\"r\") as f:\n",
    "        for line in f:\n",
    "            if not line.strip():\n",
    "                continue\n",
    "            new_row = row.to_dict()\n",
    "            new_row[value_col] = float(line.strip())\n",
    "            frames.append(new_row)\n",
    "df = pd.DataFrame(frames)\n"
   ]
  },
  {
   "cell_type": "code",
   "execution_count": null,
   "id": "577845e1",
   "metadata": {},
   "outputs": [],
   "source": [
    "# Ensure required columns are present\n",
    "required = {\"language\",\"src_filename\",\"runtime\"}\n",
    "missing = required - set(df.columns)\n",
    "assert not missing, f\"Missing columns: {missing}\"\n",
    "\n",
    "# Parse language into family + opt level, without losing raw rows\n",
    "def split_lang(s: str):\n",
    "    m = re.match(r\"^\\s*([A-Za-z\\+\\-]+(?:\\s*[A-Za-z\\-]+)?)\\s*(?:(-O[0-3]|-Ofast))?\\s*$\", str(s))\n",
    "    if not m:\n",
    "        return s.strip(), \"unspecified\"\n",
    "    fam = m.group(1).strip()\n",
    "    opt = (m.group(2) or \"unspecified\").strip()\n",
    "    return fam, opt\n",
    "\n",
    "fam_opt = df[\"language\"].apply(split_lang)\n",
    "df[\"lang_family\"] = fam_opt.apply(lambda x: x[0])\n",
    "df[\"opt_level\"]   = fam_opt.apply(lambda x: x[1])\n",
    "\n",
    "# Orders for nice, consistent axes\n",
    "opt_order  = [\"-O1\", \"-O2\", \"-O3\",]\n",
    "lang_order = sorted(df[\"lang_family\"].dropna().unique(), key=lambda s: (\"mojo\" not in s.lower(), s.lower()))\n",
    "\n",
    "# Cast to categoricals for stable plotting order\n",
    "df[\"opt_level\"]   = pd.Categorical(df[\"opt_level\"],   categories=opt_order, ordered=True)\n",
    "df[\"lang_family\"] = pd.Categorical(df[\"lang_family\"], categories=lang_order, ordered=False)\n",
    "\n",
    "df = df[df[\"opt_level\"] != \"unspecified\"]\n",
    "df = df[df[\"opt_level\"] != \"-Ofast\"]\n"
   ]
  },
  {
   "cell_type": "code",
   "execution_count": null,
   "id": "daef5bbf",
   "metadata": {},
   "outputs": [],
   "source": [
    "g = sns.catplot(\n",
    "    data=df,\n",
    "    x=\"opt_level\", y=\"runtime\",\n",
    "    hue=\"lang_family\",\n",
    "    row=\"src_filename\",\n",
    "    order=opt_order, hue_order=lang_order,\n",
    "    kind=\"bar\",\n",
    "    errorbar=(\"pi\", 95),  # 95% percentile interval\n",
    "    capsize=0.15,\n",
    "    sharey=False,\n",
    "    height=3.8, aspect=1.2\n",
    ")\n"
   ]
  },
  {
   "cell_type": "markdown",
   "id": "28765dc9",
   "metadata": {},
   "source": [
    "# gpu\n"
   ]
  },
  {
   "cell_type": "code",
   "execution_count": null,
   "id": "e7a25fee",
   "metadata": {},
   "outputs": [],
   "source": [
    "path_results = Path(\"results/gpu\")\n",
    "csv_paths = [path_results / f for f in os.listdir(path_results) if f.endswith(\".csv\")]\n",
    "dataframes = [get_dataframe(p) for p in sorted(csv_paths)]\n",
    "dataframe = pd.concat(dataframes)\n",
    "df = dataframe\n"
   ]
  },
  {
   "cell_type": "code",
   "execution_count": null,
   "id": "d42c0206",
   "metadata": {},
   "outputs": [],
   "source": [
    "# Ensure required columns are present\n",
    "required = {\"language\",\"src_filename\",\"runtime\"}\n",
    "missing = required - set(df.columns)\n",
    "assert not missing, f\"Missing columns: {missing}\"\n",
    "\n",
    "# Parse language into family + opt level, without losing raw rows\n",
    "def split_lang(s: str):\n",
    "    m = re.match(r\"^\\s*([A-Za-z\\+\\-]+(?:\\s*[A-Za-z\\-]+)?)\\s*(?:(-O[0-3]|-Ofast))?\\s*$\", str(s))\n",
    "    if not m:\n",
    "        return s.strip(), \"unspecified\"\n",
    "    fam = m.group(1).strip()\n",
    "    opt = (m.group(2) or \"unspecified\").strip()\n",
    "    return fam, opt\n",
    "\n",
    "fam_opt = df[\"language\"].apply(split_lang)\n",
    "df[\"lang_family\"] = fam_opt.apply(lambda x: x[0])\n",
    "df[\"opt_level\"]   = fam_opt.apply(lambda x: x[1])\n",
    "\n",
    "# Orders for nice, consistent axes\n",
    "opt_order  = [\"-O1\", \"-O2\", \"-O3\",]\n",
    "lang_order = sorted(df[\"lang_family\"].dropna().unique(), key=lambda s: (\"mojo\" not in s.lower(), s.lower()))\n",
    "\n",
    "# Cast to categoricals for stable plotting order\n",
    "df[\"opt_level\"]   = pd.Categorical(df[\"opt_level\"],   categories=opt_order, ordered=True)\n",
    "df[\"lang_family\"] = pd.Categorical(df[\"lang_family\"], categories=lang_order, ordered=False)\n",
    "\n",
    "df = df[df[\"opt_level\"] != \"unspecified\"]\n",
    "df = df[df[\"opt_level\"] != \"-Ofast\"]\n"
   ]
  },
  {
   "cell_type": "code",
   "execution_count": null,
   "id": "87c4045c",
   "metadata": {},
   "outputs": [],
   "source": [
    "g = sns.catplot(\n",
    "    data=df,\n",
    "    x=\"size\", y=\"runtime\",\n",
    "    hue=\"src_filename\",\n",
    "    kind=\"bar\",\n",
    "    errorbar=(\"pi\", 95),  # 95% percentile interval\n",
    "    capsize=0.15,\n",
    "    sharey=False,\n",
    "    height=3.8, aspect=1.2\n",
    ")\n"
   ]
  },
  {
   "cell_type": "markdown",
   "id": "b281e00f",
   "metadata": {},
   "source": [
    "# knmp"
   ]
  }
 ],
 "metadata": {
  "kernelspec": {
   "display_name": "Python 3 (ipykernel)",
   "language": "python",
   "name": "python3"
  },
  "language_info": {
   "codemirror_mode": {
    "name": "ipython",
    "version": 3
   },
   "file_extension": ".py",
   "mimetype": "text/x-python",
   "name": "python",
   "nbconvert_exporter": "python",
   "pygments_lexer": "ipython3",
   "version": "3.10.12"
  }
 },
 "nbformat": 4,
 "nbformat_minor": 5
}
